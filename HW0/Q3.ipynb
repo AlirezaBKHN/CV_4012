{
  "cells": [
    {
      "attachments": {},
      "cell_type": "markdown",
      "metadata": {
        "id": "P9PoDHBl3QKv"
      },
      "source": [
        "# Q3\n",
        "*Work with Numpy*<br>\n",
        "In this notebook you're going to work with the numpy library to solve the problems<br>\n",
        "Please follow the instructions and hints provided for each cell"
      ]
    },
    {
      "attachments": {},
      "cell_type": "markdown",
      "metadata": {},
      "source": [
        "## Part A"
      ]
    },
    {
      "cell_type": "code",
      "execution_count": null,
      "metadata": {
        "id": "1ZbZ5H1j5Zhw"
      },
      "outputs": [],
      "source": [
        "import numpy as np"
      ]
    },
    {
      "cell_type": "code",
      "execution_count": null,
      "metadata": {
        "id": "5nvuXUyB2aLJ"
      },
      "outputs": [],
      "source": [
        "def create_matrix(n):\n",
        "  \"\"\"\n",
        "  In this function you should create matrix in order of n*n with random numbers \n",
        "  in the [n, n+100) interval.\n",
        "\n",
        "  see the bellow link:\n",
        "    https://numpy.org/doc/stable/reference/random/generated/numpy.random.randint.html\n",
        "\n",
        "  Arguments:\n",
        "    inputs:\n",
        "      n: an integer describing the order of the matrix\n",
        "    outputs:\n",
        "      created matrix  \n",
        "  \"\"\"\n",
        "  ##############################################\n",
        "  ############ YOUR CODES GO HERE ##############\n",
        "  matrix = ...\n",
        "  ##############################################\n",
        "\n",
        "  return matrix"
      ]
    },
    {
      "cell_type": "code",
      "execution_count": null,
      "metadata": {
        "id": "1PiKjLsl6KhD"
      },
      "outputs": [],
      "source": [
        "\"\"\"\n",
        "In this cell you should get the input n and create the matrix by calling the function\n",
        "Then print the matrix\n",
        "\"\"\"\n",
        "##############################################\n",
        "############ YOUR CODES GO HERE ##############\n",
        "n = ...\n",
        "matrix = create_matrix(n)\n",
        "# print matrix\n",
        "##############################################"
      ]
    },
    {
      "cell_type": "code",
      "execution_count": null,
      "metadata": {
        "id": "Cnocq2_56mdx"
      },
      "outputs": [],
      "source": [
        "def count_digits(matrix):\n",
        "  \"\"\"\n",
        "  In this function you should implement a routine to count the digits in the given matrix.\n",
        "\n",
        "  Arguments:\n",
        "    inputs:\n",
        "      matrix: input matrix\n",
        "    outputs:\n",
        "      digits: a dictionary containing digits as its keys and the counted numbers as its value\n",
        "  \"\"\"\n",
        "\n",
        "  ##############################################\n",
        "  ############ YOUR CODES GO HERE ##############\n",
        "  digits = {}\n",
        "  ##############################################\n",
        "\n",
        "  return digits\n"
      ]
    },
    {
      "cell_type": "code",
      "execution_count": null,
      "metadata": {
        "id": "Aq3mHGcc7f2i"
      },
      "outputs": [],
      "source": [
        "\"\"\"\n",
        "In this cell call the implemented function and print the result\n",
        "\"\"\"\n",
        "\n",
        "\n",
        "##############################################\n",
        "############ YOUR CODES GO HERE ##############\n",
        "##############################################"
      ]
    },
    {
      "attachments": {},
      "cell_type": "markdown",
      "metadata": {
        "id": "ALqhYliZ8Ie8"
      },
      "source": [
        "## Part B"
      ]
    },
    {
      "cell_type": "code",
      "execution_count": null,
      "metadata": {
        "id": "bhTfjtO78LT1"
      },
      "outputs": [],
      "source": [
        "def traverse_matrix(matrix):\n",
        "  \"\"\"\n",
        "  Traverse the input matrix in the given manner then print result\n",
        "\n",
        "  Arguments:\n",
        "    inputs:\n",
        "      matrix: input matrix\n",
        "    outputs\n",
        "  \"\"\"\n",
        "\n",
        "  ##############################################\n",
        "  ############ YOUR CODES GO HERE ##############\n",
        "  ##############################################"
      ]
    },
    {
      "cell_type": "code",
      "execution_count": null,
      "metadata": {
        "id": "9Imf-wvd8oKL"
      },
      "outputs": [],
      "source": [
        "traverse_matrix(matrix)\n",
        "#print output"
      ]
    }
  ],
  "metadata": {
    "colab": {
      "provenance": []
    },
    "kernelspec": {
      "display_name": "Python 3",
      "name": "python3"
    },
    "language_info": {
      "name": "python"
    }
  },
  "nbformat": 4,
  "nbformat_minor": 0
}
