{
  "cells": [
    {
      "attachments": {},
      "cell_type": "markdown",
      "metadata": {
        "id": "P9PoDHBl3QKv"
      },
      "source": [
        "# Q3\n",
        "*Work with Numpy*<br>\n",
        "In this notebook you're going to work with the numpy library to solve the problems<br>\n",
        "Please follow the instructions and hints provided for each cell"
      ]
    },
    {
      "attachments": {},
      "cell_type": "markdown",
      "metadata": {},
      "source": [
        "## Part A"
      ]
    },
    {
      "cell_type": "code",
      "execution_count": 99,
      "metadata": {
        "id": "1ZbZ5H1j5Zhw"
      },
      "outputs": [],
      "source": [
        "import numpy as np"
      ]
    },
    {
      "cell_type": "code",
      "execution_count": 100,
      "metadata": {
        "id": "5nvuXUyB2aLJ"
      },
      "outputs": [],
      "source": [
        "def create_matrix(n):\n",
        "  \"\"\"\n",
        "  In this function you should create matrix in order of n*n with random numbers \n",
        "  in the [n, n+100) interval.\n",
        "\n",
        "  see the bellow link:\n",
        "    https://numpy.org/doc/stable/reference/random/generated/numpy.random.randint.html\n",
        "\n",
        "  Arguments:\n",
        "    inputs:\n",
        "      n: an integer describing the order of the matrix\n",
        "    outputs:\n",
        "      created matrix  \n",
        "  \"\"\"\n",
        "  ##############################################\n",
        "  ############ YOUR CODES GO HERE ##############\n",
        "  matrix = np.random.randint(low=n,high=n+100 , size=(n,n))\n",
        "  ##############################################\n",
        "\n",
        "  return matrix"
      ]
    },
    {
      "cell_type": "code",
      "execution_count": 101,
      "metadata": {
        "id": "1PiKjLsl6KhD"
      },
      "outputs": [
        {
          "name": "stdout",
          "output_type": "stream",
          "text": [
            "[[20 64 41 42]\n",
            " [13 63 30 94]\n",
            " [69 40 54 71]\n",
            " [50 98 62 65]]\n"
          ]
        }
      ],
      "source": [
        "\"\"\"\n",
        "In this cell you should get the input n and create the matrix by calling the function\n",
        "Then print the matrix\n",
        "\"\"\"\n",
        "##############################################\n",
        "############ YOUR CODES GO HERE ##############\n",
        "n = 4\n",
        "matrix = create_matrix(n)\n",
        "print (matrix)\n",
        "##############################################"
      ]
    },
    {
      "cell_type": "code",
      "execution_count": 102,
      "metadata": {
        "id": "Cnocq2_56mdx"
      },
      "outputs": [],
      "source": [
        "def count_digits(matrix):\n",
        "  \"\"\"\n",
        "  In this function you should implement a routine to count the digits in the given matrix.\n",
        "\n",
        "  Arguments:\n",
        "    inputs:\n",
        "      matrix: input matrix\n",
        "    outputs:\n",
        "      digits: a dictionary containing digits as its keys and the counted numbers as its value\n",
        "  \"\"\"\n",
        "\n",
        "  ##############################################\n",
        "  ############ YOUR CODES GO HERE ##############\n",
        "  digits = {}\n",
        "  for i in range(0,10):\n",
        "    digits[i] = 0\n",
        "  # for key,value\n",
        "  flattenMatrix = matrix.flatten()\n",
        "  \n",
        "  for num in flattenMatrix:\n",
        "    tmpNum = num \n",
        "    while(tmpNum > 0):\n",
        "      index = tmpNum%10\n",
        "      digits[index] = digits[index]+1\n",
        "      tmpNum = tmpNum // 10 \n",
        "  ##############################################\n",
        "\n",
        "  return digits\n"
      ]
    },
    {
      "cell_type": "code",
      "execution_count": 103,
      "metadata": {
        "id": "Aq3mHGcc7f2i"
      },
      "outputs": [
        {
          "name": "stdout",
          "output_type": "stream",
          "text": [
            "{0: 4, 1: 3, 2: 3, 3: 3, 4: 6, 5: 3, 6: 5, 7: 1, 8: 1, 9: 3}\n"
          ]
        }
      ],
      "source": [
        "\"\"\"\n",
        "In this cell call the implemented function and print the result\n",
        "\"\"\"\n",
        "print(count_digits(matrix))\n",
        "\n",
        "##############################################\n",
        "############ YOUR CODES GO HERE ##############\n",
        "##############################################"
      ]
    },
    {
      "attachments": {},
      "cell_type": "markdown",
      "metadata": {
        "id": "ALqhYliZ8Ie8"
      },
      "source": [
        "## Part B"
      ]
    },
    {
      "cell_type": "code",
      "execution_count": 104,
      "metadata": {
        "id": "bhTfjtO78LT1"
      },
      "outputs": [],
      "source": [
        "import enum\n",
        "\n",
        "\n",
        "def traverse_matrix(matrix):\n",
        "  \"\"\"\n",
        "  Traverse the input matrix in the given manner then print result\n",
        "\n",
        "  Arguments:\n",
        "    inputs:\n",
        "      matrix: input matrix\n",
        "    outputs\n",
        "  \"\"\"\n",
        "  class Diretions(enum.Enum):\n",
        "    rightUpperSide=0\n",
        "    rightDownSide =1\n",
        "    downLeftSide = 2\n",
        "    downRightSide= 3\n",
        "    upRight = 4\n",
        "    downLeft = 5\n",
        "\n",
        "    \n",
        "  res = []\n",
        "  dimensions = matrix.shape\n",
        "  x=0\n",
        "  y=0\n",
        "  nextDirection = Diretions.rightUpperSide\n",
        "\n",
        "  while(1):\n",
        "    res.append(matrix[x,y])\n",
        "    \n",
        "    match nextDirection:\n",
        "      case Diretions.rightUpperSide:\n",
        "        y = y +1\n",
        "        nextDirection = nextDirection.downLeft\n",
        "      case Diretions.rightDownSide:\n",
        "        y = y+1\n",
        "        nextDirection = Diretions.upRight\n",
        "      case Diretions.downLeftSide:\n",
        "        x = x + 1\n",
        "        nextDirection = Diretions.upRight\n",
        "      case Diretions.downRightSide:\n",
        "        x = x+1\n",
        "        nextDirection = Diretions.downLeft\n",
        "      case Diretions.upRight:\n",
        "        x = x-1\n",
        "        y = y+1\n",
        "        if x-1 < 0 and y+1 != dimensions[1] :\n",
        "          nextDirection = Diretions.rightUpperSide\n",
        "        elif y+1 == dimensions[1] :\n",
        "          nextDirection = Diretions.downRightSide\n",
        "      case Diretions.downLeft:\n",
        "        x = x+1\n",
        "        y = y-1\n",
        "        if x+1 == dimensions[0]:\n",
        "          nextDirection = Diretions.rightDownSide\n",
        "        elif y-1 < 0:\n",
        "          nextDirection = Diretions.downLeftSide\n",
        "\n",
        "    if x == dimensions[0] or y == dimensions[1]:\n",
        "      break;\n",
        "\n",
        "\n",
        "\n",
        "  print(res)"
      ]
    },
    {
      "cell_type": "code",
      "execution_count": 105,
      "metadata": {
        "id": "9Imf-wvd8oKL"
      },
      "outputs": [
        {
          "name": "stdout",
          "output_type": "stream",
          "text": [
            "[20, 64, 13, 69, 63, 41, 42, 30, 40, 50, 98, 54, 94, 71, 62, 65]\n"
          ]
        }
      ],
      "source": [
        "traverse_matrix(matrix)\n",
        "#print output"
      ]
    }
  ],
  "metadata": {
    "colab": {
      "provenance": []
    },
    "kernelspec": {
      "display_name": "Python 3",
      "language": "python",
      "name": "python3"
    },
    "language_info": {
      "codemirror_mode": {
        "name": "ipython",
        "version": 3
      },
      "file_extension": ".py",
      "mimetype": "text/x-python",
      "name": "python",
      "nbconvert_exporter": "python",
      "pygments_lexer": "ipython3",
      "version": "3.10.6"
    },
    "vscode": {
      "interpreter": {
        "hash": "916dbcbb3f70747c44a77c7bcd40155683ae19c65e1c03b4aa3499c5328201f1"
      }
    }
  },
  "nbformat": 4,
  "nbformat_minor": 0
}
