{
 "cells": [
  {
   "attachments": {},
   "cell_type": "markdown",
   "metadata": {},
   "source": [
    "**Import Libraries**"
   ]
  },
  {
   "cell_type": "code",
   "execution_count": null,
   "metadata": {},
   "outputs": [],
   "source": [
    "import cv2\n",
    "import matplotlib.pyplot as plt\n",
    "import matplotlib.cbook as cbook\n",
    "import matplotlib.image as image\n",
    "import numpy as np\n",
    "import os"
   ]
  },
  {
   "cell_type": "code",
   "execution_count": null,
   "metadata": {},
   "outputs": [],
   "source": [
    "imgCV = cv2.imread('Q1.jpg')\n",
    "imgPLT = plt.imread('Q1.jpg')"
   ]
  },
  {
   "cell_type": "code",
   "execution_count": null,
   "metadata": {},
   "outputs": [],
   "source": [
    "cv2.imshow('cv image', imgCV)\n",
    "cv2.waitKey(0)\n",
    "# # and finally destroy/close all open windows\n",
    "cv2.destroyAllWindows()"
   ]
  },
  {
   "cell_type": "code",
   "execution_count": null,
   "metadata": {},
   "outputs": [],
   "source": [
    "fig , ax = plt.subplots()\n",
    "ax.imshow(imgPLT)\n",
    "ax.axis('off')\n",
    "plt.show();"
   ]
  },
  {
   "cell_type": "code",
   "execution_count": null,
   "metadata": {},
   "outputs": [],
   "source": [
    "print(imgCV.shape)\n",
    "print(imgPLT.shape)\n"
   ]
  },
  {
   "cell_type": "code",
   "execution_count": null,
   "metadata": {},
   "outputs": [],
   "source": [
    "convertedImg = imgPLT[:,:,[2,1,0]]\n",
    "print(imgCV[:,:,0])\n",
    "print(convertedImg[:,:,0])\n",
    "\n",
    "cv2.imshow('converted image', convertedImg)\n",
    "cv2.waitKey(0)\n",
    "# # and finally destroy/close all open windows\n",
    "cv2.destroyAllWindows()"
   ]
  },
  {
   "cell_type": "code",
   "execution_count": null,
   "metadata": {},
   "outputs": [],
   "source": [
    "parent = r'Q1/'\n",
    "name = r'Q1Gray'\n",
    "path = os.path.join(parent,name)\n",
    "try:\n",
    "    os.makedirs(path)  \n",
    "except:\n",
    "    print(\"Directory already exists\")    "
   ]
  },
  {
   "cell_type": "code",
   "execution_count": null,
   "metadata": {},
   "outputs": [],
   "source": [
    "try:\n",
    "    for file in os.listdir('Q1'):\n",
    "        img = cv2.imread(os.path.join('Q1',file))\n",
    "        gray = cv2.cvtColor(img,cv2.COLOR_BGR2GRAY)\n",
    "        filenametxt = file.strip('.jpeg') + '.txt'\n",
    "        filenamejpg = file.strip('.jpeg') + '.jpg'\n",
    "        cv2.imwrite(path+'/'+filenamejpg,gray)\n",
    "        with open(path+'/'+filenametxt,'w') as f:\n",
    "            f.write(str(gray.shape[0])+', ' + str(gray.shape[1]))\n",
    "except:\n",
    "    print('finished')"
   ]
  }
 ],
 "metadata": {
  "kernelspec": {
   "display_name": "Python 3",
   "language": "python",
   "name": "python3"
  },
  "language_info": {
   "codemirror_mode": {
    "name": "ipython",
    "version": 3
   },
   "file_extension": ".py",
   "mimetype": "text/x-python",
   "name": "python",
   "nbconvert_exporter": "python",
   "pygments_lexer": "ipython3",
   "version": "3.10.6"
  },
  "orig_nbformat": 4,
  "vscode": {
   "interpreter": {
    "hash": "916dbcbb3f70747c44a77c7bcd40155683ae19c65e1c03b4aa3499c5328201f1"
   }
  }
 },
 "nbformat": 4,
 "nbformat_minor": 2
}
